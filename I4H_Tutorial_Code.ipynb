{
  "nbformat": 4,
  "nbformat_minor": 0,
  "metadata": {
    "colab": {
      "provenance": []
    },
    "kernelspec": {
      "name": "python3",
      "display_name": "Python 3"
    },
    "language_info": {
      "name": "python"
    }
  },
  "cells": [
    {
      "cell_type": "markdown",
      "source": [
        "# Sample Code\n",
        "\n",
        "Use the play button to run this code and see if it works."
      ],
      "metadata": {
        "id": "yK2DsXeObeyL"
      }
    },
    {
      "cell_type": "code",
      "execution_count": null,
      "metadata": {
        "id": "gXR3foxcbdOu"
      },
      "outputs": [],
      "source": [
        "#Programming Personality Quiz\n",
        "import random\n",
        "def welcome():\n",
        "    \"\"\"Generates a welcome message.\"\"\"\n",
        "    print(\"Welcome to the Coding Superpower Generator!\")\n",
        "    print(\"Discover your unique coding superpower based on your name and favorite color!\\n\")\n",
        "\n",
        "\n",
        "welcome()\n",
        "\n",
        "#Get user's name and favorite colour\n",
        "name = input(\"Enter your name: \")\n",
        "color = input(\"Enter your favorite color: \").lower()\n",
        "\n",
        "#Define possible superpowers and messages using lists\n",
        "superpowers = [\n",
        "    \"Debugging Wizard\", \"Algorithm Master\", \"Data Whisperer\",\n",
        "    \"Code Ninja\", \"API Guru\", \"Cloud Architect\", \"AI Visionary\"\n",
        "]\n",
        "\n",
        "messages = [\n",
        "    \"You can solve any bug in seconds!\",\n",
        "    \"You write algorithms that make computers cry tears of joy!\",\n",
        "    \"You speak the language of data and make it sing!\",\n",
        "    \"You move through code like a shadow, leaving no errors behind!\",\n",
        "    \"You connect systems like a digital matchmaker!\",\n",
        "    \"You build castles in the cloud with ease!\",\n",
        "    \"You see the future of AI and shape it with your code!\"\n",
        "]\n",
        "\n",
        "#Generate a random superpower based on the length of their name\n",
        "random.seed(len(name))\n",
        "superpower = random.choice(superpowers)\n",
        "message = random.choice(messages)\n",
        "\n",
        "# Step 4: Display the result\n",
        "print(\"\\nGenerating your coding superpower...\\n\")\n",
        "print(f\"🌟 {name}, your coding superpower is: {superpower}! 🌟\")\n",
        "print(f\"✨ {message} ✨\")\n",
        "\n",
        "# Add a fun colour message using a dictionary\n",
        "color_messages = {\n",
        "    \"red\": \"Your passion for coding burns bright like a red flame!\",\n",
        "    \"blue\": \"You code as calmly and deeply as the blue ocean!\",\n",
        "    \"green\": \"Your creativity grows like a green forest!\",\n",
        "    \"yellow\": \"Your code shines as bright as the yellow sun!\",\n",
        "    \"purple\": \"You bring a royal touch to every project!\",\n",
        "    \"orange\": \"Your energy and enthusiasm light up the coding world!\",\n",
        "    \"pink\": \"You add a splash of fun and creativity to every line of code!\"\n",
        "}\n",
        "\n",
        "# Check if the favorite color is in the dictionary\n",
        "if color in color_messages:\n",
        "    print(f\"\\n🎨 {color_messages[color]}\")\n",
        "else:\n",
        "    print(\"\\n🎨 Your favorite color is as unique as your coding style!\")\n",
        "\n",
        "# Fun closing message\n",
        "print(\"\\nThanks for playing! Keep coding and unleashing your superpowers! 🚀\")"
      ]
    },
    {
      "cell_type": "markdown",
      "source": [
        "# Simple Programs\n",
        "A good idea for designing simple programs is to think of the input, process, and output (IPO) that you will need to build the program."
      ],
      "metadata": {
        "id": "5AddlocC78S6"
      }
    },
    {
      "cell_type": "code",
      "source": [
        "#Basic Operations\n",
        "x = 3\n",
        "y = x + 5\n",
        "name = \"Alison\"\n",
        "superhero = \"bat\" + \"man\"\n",
        "print(superhero)\n",
        "print(\"x is equal to:\", x)"
      ],
      "metadata": {
        "id": "AHyMFHDv77QD"
      },
      "execution_count": null,
      "outputs": []
    },
    {
      "cell_type": "code",
      "source": [
        "#user inputs\n",
        "newGreeting = input (\"Enter a greeting\")\n",
        "print(newGreeting)\n",
        "\n",
        "number = input(\"Enter your favourite number\")\n",
        "print(\"Your favourite number x 10 is: \", number*10)\n",
        "#What is the problem here?"
      ],
      "metadata": {
        "id": "8Wsl6nd-8q5r"
      },
      "execution_count": null,
      "outputs": []
    },
    {
      "cell_type": "markdown",
      "source": [
        "**Data Types in Python**\n",
        "\n"
      ],
      "metadata": {
        "id": "x_5f9Z3o-Xn-"
      }
    },
    {
      "cell_type": "code",
      "source": [
        "#Integer (int)\n",
        "age = 25\n",
        "print(\"Age:\", age)\n",
        "print(\"Type:\", type(age))\n",
        "\n",
        "#Float (float)\n",
        "temperature = 17.8\n",
        "print(\"Temperature:\", temperature)\n",
        "print(\"Type:\", type(temperature))\n",
        "\n",
        "#String (str)\n",
        "name = \"Alice\"\n",
        "print(\"Name:\", name)\n",
        "print(\"Type:\", type(name))"
      ],
      "metadata": {
        "id": "VPjT_2ib-bcq"
      },
      "execution_count": null,
      "outputs": []
    },
    {
      "cell_type": "code",
      "source": [
        "#Convert from one data type to another:\n",
        "temperature_int = int(17.8)\n",
        "print(\"Temperature Integer:\", temperature_int)\n",
        "print(\"Type:\", type(temperature_int))"
      ],
      "metadata": {
        "id": "TrSlFEE2-zDJ"
      },
      "execution_count": null,
      "outputs": []
    },
    {
      "cell_type": "markdown",
      "source": [
        "Polite in Japan Solution"
      ],
      "metadata": {
        "id": "w7_GhJNB-flJ"
      }
    },
    {
      "cell_type": "code",
      "source": [
        "#input\n",
        "name = input (\"Please enter your first name: \")\n",
        "#process\n",
        "greeting = \"Hello \" + name + \"-san!\"\n",
        "#output\n",
        "print(greeting)"
      ],
      "metadata": {
        "id": "tB3HLCwc-DHi"
      },
      "execution_count": null,
      "outputs": []
    },
    {
      "cell_type": "markdown",
      "source": [
        "**Checkpoint 2: xxxCoolxxxNamexxx**\n",
        "\n",
        "Write a program that prompts the user to input three words and outputs a very cool and edgy Myspace username.\n",
        "\n",
        "**Example words:** I, Love, Math\n",
        "\n",
        "**Example output:** xxxIxxxLovexxxMath"
      ],
      "metadata": {
        "id": "iKQETAXH_Qda"
      }
    },
    {
      "cell_type": "code",
      "source": [],
      "metadata": {
        "id": "af_3qOmZ_WOm"
      },
      "execution_count": null,
      "outputs": []
    },
    {
      "cell_type": "markdown",
      "source": [
        "# Functions\n",
        "A function is code that can be repeated.\n"
      ],
      "metadata": {
        "id": "RnP6o2dT_7pw"
      }
    },
    {
      "cell_type": "code",
      "source": [
        "def mmhg_to_kpa(mmHg):\n",
        "   \"\"\"Function to convert blood pressure from mmHg to kPa\n",
        "\t :param mmHg: Blood pressure in millimeters of mercury (mmHg)\n",
        "   :return: Blood pressure in kilopascals (kPa)\n",
        "   \"\"\"\n",
        "   kPa = mmHg*0.133322\n",
        "   return kPa\n",
        "\n",
        "#Use it in your code:\n",
        "systolic_mmhg = 120\n",
        "systolic_kpa= mmhg_to_kpa(systolic_mmhg)\n",
        "print(\"The patient's blood pressure is:\",systolic_kpa,\"kPa\")"
      ],
      "metadata": {
        "id": "2qmNmCEIAAih"
      },
      "execution_count": null,
      "outputs": []
    },
    {
      "cell_type": "markdown",
      "source": [
        "**Checkpoint 3: Hydration Tracker**\n",
        "\n",
        "Write a function that calculates how much water (in liters) a person should drink per day based on their weight (30 mL per kg).\n",
        "\n",
        "Assume that the user only knows their weight in lbs.\n"
      ],
      "metadata": {
        "id": "XiIk7wXJAl2Y"
      }
    },
    {
      "cell_type": "code",
      "source": [],
      "metadata": {
        "id": "Lrab69DgAich"
      },
      "execution_count": null,
      "outputs": []
    },
    {
      "cell_type": "markdown",
      "source": [
        "# Sequences\n",
        "\n",
        "A **string** is a sequence of characters.\n",
        "\n",
        "A **list** is a sequence of any type of object.\n",
        "\n",
        "Lists are **mutable**, but strings are not.\n"
      ],
      "metadata": {
        "id": "Ou31xLFF_W2d"
      }
    },
    {
      "cell_type": "code",
      "source": [
        "#Strings\n",
        "greeting = \"Hello World\"\n",
        "number= \"103514\""
      ],
      "metadata": {
        "id": "RAu61wWgBFNx"
      },
      "execution_count": 14,
      "outputs": []
    },
    {
      "cell_type": "code",
      "source": [
        "#Lists\n",
        "list_example = [\"Jan\", \"Feb\", 3, -5.6, \"March\"]\n",
        "print(list_example)\n",
        "print(type(list_example))\n",
        "print(list_example[0])\n",
        "print(list_example[-1])\n",
        "print(list_example[0:2])"
      ],
      "metadata": {
        "id": "FF5_nj1s_dqq"
      },
      "execution_count": null,
      "outputs": []
    },
    {
      "cell_type": "code",
      "source": [
        "#Some methods for Lists\n",
        "fruits = [\"grape\", \"banana\", \"strawberry\"]\n",
        "print(\"Original List:\", fruits)\n",
        "fruits.append(\"apple\") #add \"apple\" to the end of the list\n",
        "print(\"Append apple:\", fruits)\n",
        "fruits.insert(0, \"orange\") #insert \"orange\" at index 0\n",
        "print(\"Insert Orange:\", fruits)\n",
        "fruits.sort()\n",
        "print(\"Sorted List:\", fruits)\n",
        "favourite_fruit = fruits.pop() #remove last item from list and save\n",
        "print(\"List after pop:\", fruits)\n",
        "print(\"Favourite Fruit:\", favourite_fruit)"
      ],
      "metadata": {
        "id": "RoKrdRupANM1"
      },
      "execution_count": null,
      "outputs": []
    },
    {
      "cell_type": "markdown",
      "source": [
        "**Checkpoint 4: List Moving**\n",
        "\n",
        "Write a function that rotates the elements of a list one step to the right.\n",
        "\n",
        "Example Input: [1, 2, 3, 4, 5]  \n",
        "\n",
        "Example Output: [5, 1, 2, 3, 4]\n"
      ],
      "metadata": {
        "id": "31vuEyooCd1E"
      }
    },
    {
      "cell_type": "code",
      "source": [],
      "metadata": {
        "id": "QPkKj2q8CqtE"
      },
      "execution_count": 119,
      "outputs": []
    },
    {
      "cell_type": "code",
      "source": [
        "#For Loops and Lists\n",
        "fruits = ['apple', 'banana', 'cherry']\n",
        "\n",
        "for fruit in fruits:\n",
        "    print(fruit)"
      ],
      "metadata": {
        "id": "ctUOOk_kExqb"
      },
      "execution_count": null,
      "outputs": []
    },
    {
      "cell_type": "code",
      "source": [
        "#Since functions are objects, they can be used in a list.\n",
        "import numpy as np\n",
        "functionlist = [np.sqrt, np.log, np.sin]\n",
        "n = 2\n",
        "for f in functionlist:\n",
        "   print(round(f(n),2))"
      ],
      "metadata": {
        "id": "mvbf3xJxBuhH"
      },
      "execution_count": null,
      "outputs": []
    },
    {
      "cell_type": "markdown",
      "source": [
        "# Libraries"
      ],
      "metadata": {
        "id": "lQBU6m6AFgI1"
      }
    },
    {
      "cell_type": "code",
      "source": [
        "#NumPy can be useful for making arrays\n",
        "import numpy as np\n",
        "a = np.array([1, 2, 3, 4, 5, 6])\n",
        "print(a)\n",
        "print()\n",
        "b = np.array([[1,2],[3,4],[5,6]])\n",
        "print(b)\n",
        "print(type(b))"
      ],
      "metadata": {
        "id": "Z0s69P46clKu"
      },
      "execution_count": null,
      "outputs": []
    },
    {
      "cell_type": "code",
      "source": [
        "#pandas is a very useful library for working with data\n",
        "import pandas as pd\n",
        "\n",
        "#convert some lists to a pandas DataFrame\n",
        "num_list = [21, 16, 26, 17, 28, 25, 7, 43, 52, 12]\n",
        "df = pd.DataFrame(num_list)\n",
        "print(df)"
      ],
      "metadata": {
        "id": "HuKja7drco0k"
      },
      "execution_count": null,
      "outputs": []
    },
    {
      "cell_type": "code",
      "source": [
        "#Bitcoin Example\n",
        "import pandas as pd\n",
        "\n",
        "# Load the CSV file\n",
        "file_path = \"https://raw.githubusercontent.com/ejfarago/i4H_Tutorial/refs/heads/main/bitcoin.csv\"  # Replace with your file path\n",
        "df = pd.read_csv(file_path)\n",
        "\n",
        "print(df.head())\n",
        "print(df.describe())\n",
        "\n",
        "# Find max and min closing prices\n",
        "max_price = df['Close'].max()\n",
        "min_price = df['Close'].min()\n",
        "print(\"Max Price:\", max_price)\n",
        "print(\"Min Price:\", min_price)"
      ],
      "metadata": {
        "id": "e5aTXc3DaYxD"
      },
      "execution_count": null,
      "outputs": []
    },
    {
      "cell_type": "code",
      "source": [
        "# Plot Bitcoin closing prices over the last 90 days\n",
        "import matplotlib.pyplot as plt\n",
        "\n",
        "plt.figure()\n",
        "plt.plot(df['End'], df['Close'], marker='o', linestyle='-', color = \"g\")\n",
        "\n",
        "# Labels and title\n",
        "plt.xlabel(\"Date\")\n",
        "plt.ylabel(\"Closing Price (USD)\")\n",
        "plt.title(\"Bitcoin Closing Prices\")\n",
        "plt.grid()\n",
        "\n",
        "# Rotate date labels for better readability\n",
        "plt.xticks(rotation=45)\n",
        "\n",
        "# Show the plot\n",
        "plt.show()"
      ],
      "metadata": {
        "id": "rFAhDQ2wi75-"
      },
      "execution_count": null,
      "outputs": []
    },
    {
      "cell_type": "code",
      "source": [
        "df[\"Day\"]=df.index\n",
        "print(df.head())"
      ],
      "metadata": {
        "id": "dYWcvry2jkBG"
      },
      "execution_count": null,
      "outputs": []
    },
    {
      "cell_type": "markdown",
      "source": [
        "# Diseases Example\n",
        "\n",
        "Use Python to determine which disease categories are more prevalent among women."
      ],
      "metadata": {
        "id": "3l3HTb1HpIPR"
      }
    },
    {
      "cell_type": "code",
      "source": [
        "import pandas as pd\n",
        "df = pd.read_csv(\"https://raw.githubusercontent.com/ejfarago/i4H_Tutorial/refs/heads/main/disease_list.csv\")\n",
        "print(df.head())\n",
        "print(df[\"Category\"].value_counts())"
      ],
      "metadata": {
        "id": "j8P_2InkpPOY"
      },
      "execution_count": null,
      "outputs": []
    },
    {
      "cell_type": "code",
      "source": [
        "#use groupby() to get the mean for each category\n",
        "df_women = df.groupby([\"Category\"])[\"Prevalence_Women (%)\"].mean()\n",
        "print(df_women)\n",
        "\n",
        "#create a bar graph\n",
        "import matplotlib.pyplot as plt\n",
        "df_women.plot(kind=\"bar\", color = \"m\")\n",
        "plt.show()"
      ],
      "metadata": {
        "id": "5JMibGLaqeUb"
      },
      "execution_count": null,
      "outputs": []
    },
    {
      "cell_type": "markdown",
      "source": [
        "# Decision Structures"
      ],
      "metadata": {
        "id": "K2LoiMh0oPog"
      }
    },
    {
      "cell_type": "code",
      "source": [
        "#Bad dating advice\n",
        "days = int(input(\"How many days has it been since your date? \"))\n",
        "\n",
        "if days <= 3:\n",
        "  print(\"Wait to see if he texts.\")\n",
        "elif days <= 7:\n",
        "  print(\"Call his mom to ask if he is alive.\")\n",
        "else:\n",
        "  print(\"He was most likely abducted by aliens :( \")"
      ],
      "metadata": {
        "id": "fakX2_21oOng"
      },
      "execution_count": null,
      "outputs": []
    },
    {
      "cell_type": "markdown",
      "source": [
        "**Physician Program**\n",
        "\n",
        "Normal uric acid levels are 2.4-6.0 mg/dL (female) and 3.4-7.0 mg/dL (male).\n",
        "Write a program for a physician to determine if a patient has healthy, too low, or too high uric acid levels.\n"
      ],
      "metadata": {
        "id": "o4zlkmwioa-5"
      }
    },
    {
      "cell_type": "code",
      "source": [],
      "metadata": {
        "id": "jz1E8AHQoWMR"
      },
      "execution_count": 111,
      "outputs": []
    },
    {
      "cell_type": "markdown",
      "source": [
        "# Loops\n"
      ],
      "metadata": {
        "id": "ymCcf6g_oiOp"
      }
    },
    {
      "cell_type": "code",
      "source": [
        "n = 10\n",
        "for i in range(n):\n",
        "  print(i)"
      ],
      "metadata": {
        "id": "YGpcM-hIokKQ"
      },
      "execution_count": null,
      "outputs": []
    },
    {
      "cell_type": "code",
      "source": [
        "i = 0\n",
        "while i<10:\n",
        "  print(i)\n",
        "  i+=1"
      ],
      "metadata": {
        "id": "SL3-Nb4oolN5"
      },
      "execution_count": null,
      "outputs": []
    },
    {
      "cell_type": "markdown",
      "source": [
        "**Scrabble Problem**\n",
        "\n",
        "In the game of Scrabble, players score points determined by the words they put on a board, and the word score is the sum of the letter values. Write a program using a while loop to allow a user to calculate the sum of Scrabble letters until they press **Enter**."
      ],
      "metadata": {
        "id": "mUI_M_Z5oump"
      }
    }
  ]
}